{
 "cells": [
  {
   "cell_type": "code",
   "execution_count": 11,
   "id": "7d0e0f5d",
   "metadata": {},
   "outputs": [],
   "source": [
    "from bs4 import BeautifulSoup"
   ]
  },
  {
   "cell_type": "code",
   "execution_count": 12,
   "id": "f358185e",
   "metadata": {},
   "outputs": [],
   "source": [
    "path = './data/timel_tree.html'"
   ]
  },
  {
   "cell_type": "code",
   "execution_count": 13,
   "id": "c16148d9",
   "metadata": {},
   "outputs": [],
   "source": [
    "#read the file\n",
    "with open(path, 'r') as file:\n",
    "    content = file.read()"
   ]
  },
  {
   "cell_type": "code",
   "execution_count": 14,
   "id": "ea60a4ac",
   "metadata": {},
   "outputs": [],
   "source": [
    "soup = BeautifulSoup(content, 'html.parser')"
   ]
  },
  {
   "cell_type": "code",
   "execution_count": 15,
   "id": "c4b7d7b3",
   "metadata": {},
   "outputs": [],
   "source": [
    "terms = list(map(lambda a: a.get_text(strip=True), soup.select(\"a\")))"
   ]
  },
  {
   "cell_type": "code",
   "execution_count": 16,
   "id": "e1d22212",
   "metadata": {},
   "outputs": [],
   "source": [
    "links = list(map(lambda a: a.get('href'), soup.select(\"a\")))"
   ]
  },
  {
   "cell_type": "code",
   "execution_count": 21,
   "id": "81b1e0e4",
   "metadata": {},
   "outputs": [],
   "source": [
    "links = list(map(lambda x: x.replace('https://datu.ehess.fr/timel/fr/page/?uri=', ''), links))"
   ]
  },
  {
   "cell_type": "code",
   "execution_count": 22,
   "id": "0cc58a8f",
   "metadata": {},
   "outputs": [],
   "source": [
    "#create a dictionary with links as keys and terms as values\n",
    "terms_dict = dict(zip(links, terms))"
   ]
  },
  {
   "cell_type": "code",
   "execution_count": 23,
   "id": "71949f9a",
   "metadata": {},
   "outputs": [],
   "source": [
    "import json\n",
    "with open('./data/links_to_terms.json', 'w') as file:\n",
    "    json.dump(terms_dict, file, ensure_ascii=False)"
   ]
  },
  {
   "cell_type": "markdown",
   "id": "700e6e26",
   "metadata": {},
   "source": [
    "**After this point, the code on this notebook was lost due to unsaved changes.**\n",
    "\n",
    "The code allowed to extract links from file `../data/original_data/image_indexing.csv` and get corresponding french terms from `../data/translation_data/links_to_terms.json` <br> <br>(we do this to ensure coherence among terms and to reduce the number of terms to translate)\n",
    "\n",
    "At the end of the code, we get:\n",
    "\n",
    "- json file `../data/elaborated_data/image_indexing_modified.json` with the index semi-elaborated, with lists of links and equivalent terms (in french) for each image in the dataset \n",
    "\n",
    "- json file `../data/translation_data/terms_to_translate.json` with all the terms to translate extracted from `image_indexing_modified.json`"
   ]
  }
 ],
 "metadata": {
  "kernelspec": {
   "display_name": "python4HN",
   "language": "python",
   "name": "python3"
  },
  "language_info": {
   "codemirror_mode": {
    "name": "ipython",
    "version": 3
   },
   "file_extension": ".py",
   "mimetype": "text/x-python",
   "name": "python",
   "nbconvert_exporter": "python",
   "pygments_lexer": "ipython3",
   "version": "3.8.18"
  }
 },
 "nbformat": 4,
 "nbformat_minor": 5
}
