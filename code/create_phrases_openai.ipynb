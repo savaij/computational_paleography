{
 "cells": [
  {
   "cell_type": "code",
   "execution_count": 41,
   "id": "21aeb8b1",
   "metadata": {},
   "outputs": [],
   "source": [
    "import pandas as pd\n",
    "df = pd.read_json('./data/image_indexing_modified.json')\n",
    "filtro = (df['files'].str[-3:] =='jpg') | (df['files'].str[-3:] =='JPG')\n",
    "df = df[filtro]\n",
    "columns_to_keep = ['files'] + [col for col in df.columns if col[-4:] == 'term' and col!='thema_term']\n",
    "df = df[columns_to_keep]\n",
    "df = df.dropna()\n"
   ]
  },
  {
   "cell_type": "code",
   "execution_count": 42,
   "id": "0d69f79c",
   "metadata": {},
   "outputs": [],
   "source": [
    "import json\n",
    "with open('./data/translated_terms.json') as f:\n",
    "  dictionary = json.load(f)"
   ]
  },
  {
   "cell_type": "code",
   "execution_count": 44,
   "id": "8123be40",
   "metadata": {},
   "outputs": [],
   "source": [
    "import unicodedata\n",
    "\n",
    "def normalize_text(text):\n",
    "    # Normalizza unicode (NFKC), rimuove escape, unifica apici\n",
    "    text = unicodedata.normalize('NFKC', text)\n",
    "    text = text.replace('\\\\', '')\n",
    "    text = text.replace('“', \"'\").replace('”', \"'\").replace('\"', \"'\")\n",
    "    text = text.replace(\"’\", \"'\").replace(\"`\", \"'\")\n",
    "    return text.strip()\n",
    "\n",
    "def process_dataframe(df, dictionary):\n",
    "    # Normalizza le chiavi del dizionario\n",
    "    normalized_dict = {normalize_text(k): v for k, v in dictionary.items()}\n",
    "\n",
    "    def map_and_concat(row):\n",
    "        col_to_term = {\n",
    "            'nature_place_term': 'Natural elements',\n",
    "            'object_architecture_term': 'Architecture and objects elements:',\n",
    "            'character_term': 'Character elements:',\n",
    "            'subject_term': 'Subject elements:'\n",
    "        }\n",
    "        result = {}\n",
    "        for col in ['nature_place_term', 'object_architecture_term', 'character_term', 'subject_term']:\n",
    "            value = row[col]\n",
    "            if isinstance(value, list):\n",
    "                mapped = [normalized_dict[normalize_text(item)] for item in value]\n",
    "                result[col_to_term[col]] = mapped\n",
    "\n",
    "        return json.dumps(result, ensure_ascii=False)\n",
    "\n",
    "    df['processed_terms'] = df.apply(map_and_concat, axis=1)\n",
    "    return df"
   ]
  },
  {
   "cell_type": "code",
   "execution_count": 45,
   "id": "fadc0284",
   "metadata": {},
   "outputs": [],
   "source": [
    "df = df.replace('Joab tuant Absalom', 'Joab tué Absalom')\n",
    "df = df.replace('gahom/Pierpont m805.105r.jpg', 'gahom/Pierpont_m805.105r.jpg')\n",
    "df = df.replace('gahom/Pierpont m805.109r.jpg', 'gahom/Pierpont_m805.109r.jpg')\n",
    "df = process_dataframe(df, dictionary)"
   ]
  },
  {
   "cell_type": "code",
   "execution_count": 48,
   "id": "92651769",
   "metadata": {},
   "outputs": [],
   "source": [
    "from PIL import Image"
   ]
  },
  {
   "cell_type": "markdown",
   "id": "fda908a0",
   "metadata": {},
   "source": [
    "__PROMPT__\n",
    "\n",
    "Create a plausible caption for a medieval illustration using a sequence of key terms and elements provided in JSON format.\n",
    "\n",
    "You will be supplied with several categories of elements, each containing specific terms relevant to a medieval illustration. These categories include natural elements, architecture and objects, character elements, and subject elements. Use this information to craft a descriptive caption that integrates these elements logically and creatively, reflecting the style and context of medieval art.\n",
    "\n",
    "### Steps\n",
    "\n",
    "1. **Identify Elements**: Read and categorize key terms from the input JSON into their respective groups — Natural, Architecture and Objects, Character, and Subject elements.\n",
    "2. **Understand Context**: Consider typical themes, narratives, and artistic styles of medieval illustrations to authentically integrate the supplied elements.\n",
    "3. **Compose Caption**: Construct a clear, coherent caption describing the scene with the identified elements, ensuring logical integration based on medieval storytelling traditions. Do **not** invent anything that cannot be inferred from the key terms.\n",
    "4. **Maintain Style**: Use historically appropriate language, avoiding anachronisms or modern terminology. The tone must be neutral; do not use superlative or emphatic adjectives.\n",
    "\n",
    "### Output Format\n",
    "\n",
    "Return **only** a valid JSON object:\n",
    "\n",
    "```json\n",
    "{ \"caption\": \"<your short, neutral caption here>\" }\n",
    "```\n",
    "\n",
    "* The caption should be a single concise sentence or very short paragraph.\n",
    "* Integrate all given elements cohesively without forcing them unnaturally.\n",
    "* No additional keys, commentary, or formatting outside the JSON object.\n",
    "\n",
    "#Example\n",
    "**Input**\n",
    "{\"Natural elements\": [\"serpent\", \"dragon\", \"lion\"], \"Architecture and objects elements:\": [\"mask\", \"curtain\", \"tissue\", \"seat (furniture)\", \"lectern\", \"reed pen\", \"knife\", \"column\", \"architecture\", \"capital\"], \"Character elements:\": [\"angel\", \"Saint Matthew\"], \"Subject elements:\": []}\n",
    "\n",
    "**output**\n",
    "```json\n",
    "{\n",
    "  \"caption\": \"Saint Matthew, seated on a stone seat beneath a draped curtain between architectural columns, writes with a reed pen at a lectern. In the scene there are also a serpent, an angel above, and lions.\"\n",
    "}\n",
    "```"
   ]
  },
  {
   "cell_type": "code",
   "execution_count": null,
   "id": "ec342e09",
   "metadata": {},
   "outputs": [],
   "source": [
    "from openai import OpenAI\n",
    "client = OpenAI(api_key='API_KEY')\n",
    "\n",
    "def get_response(input_text):  \n",
    "  response = client.responses.create(\n",
    "    prompt={\n",
    "      \"id\": \"pmpt_685821e905dc8197964d665e339611b702097471bbc3d5ef\",\n",
    "      \"version\": \"1\"\n",
    "    },\n",
    "    input=[\n",
    "      {\n",
    "        \"role\": \"user\",\n",
    "        \"content\": [\n",
    "          {\n",
    "            \"type\": \"input_text\",\n",
    "            \"text\": input_text,\n",
    "          }\n",
    "        ]\n",
    "      }\n",
    "    ],\n",
    "    text={\n",
    "      \"format\": {\n",
    "        \"type\": \"json_schema\",\n",
    "        \"name\": \"description\",\n",
    "        \"strict\": True,\n",
    "        \"schema\": {\n",
    "          \"type\": \"object\",\n",
    "          \"properties\": {\n",
    "            \"caption\": {\n",
    "              \"type\": \"string\",\n",
    "              \"description\": \"A descriptive caption providing details about the scene depicted.\"\n",
    "            }\n",
    "          },\n",
    "          \"required\": [\n",
    "            \"caption\"\n",
    "          ],\n",
    "          \"additionalProperties\": False\n",
    "        }\n",
    "      }\n",
    "    },\n",
    "    reasoning={},\n",
    "    max_output_tokens=2048,\n",
    "    store=True\n",
    "  )\n",
    "\n",
    "  return response"
   ]
  },
  {
   "cell_type": "code",
   "execution_count": 50,
   "id": "63d33354",
   "metadata": {},
   "outputs": [],
   "source": [
    "from tqdm import tqdm\n",
    "import traceback\n",
    "\n",
    "def apply_openai_caption(df):\n",
    "    try:\n",
    "        # Inizializza la colonna 'openai_caption' con valori None\n",
    "        df['openai_caption'] = None\n",
    "\n",
    "        # Itera su ogni riga del dataframe\n",
    "        for index, row in tqdm(df.iterrows()):\n",
    "            try:\n",
    "                response = get_response(row['processed_terms'])\n",
    "                caption = response.output_text  # Estrai la caption dalla risposta\n",
    "                df.at[index, 'openai_caption_raw'] = caption\n",
    "            except Exception as e:\n",
    "                # Se c'è un errore per una riga specifica, stampa un messaggio\n",
    "                print(f\"Errore nella riga {index}: {e}\")\n",
    "\n",
    "        # Salva il dataframe modificato in un file JSON\n",
    "        df.to_json('./data/image_indexing_modified_openai.json', orient='records', force_ascii=False)\n",
    "        print(\"Fatto!\")\n",
    "        return df\n",
    "\n",
    "    except Exception as e:\n",
    "        # Salva il dataframe modificato fino a quel momento in caso di errore\n",
    "        print(f\"Errore durante l'elaborazione: {e}\")\n",
    "        print(traceback.format_exc())\n",
    "        df.to_json('./data/image_indexing_modified_openai.json', orient='records', force_ascii=False)\n",
    "        raise e  # Rilancia l'errore per ulteriori debug\n",
    "\n",
    "# Applicazione della funzione al dataframe\n",
    "\n",
    "#df = apply_openai_caption(df)"
   ]
  },
  {
   "cell_type": "code",
   "execution_count": 51,
   "id": "9a424904",
   "metadata": {},
   "outputs": [
    {
     "name": "stderr",
     "output_type": "stream",
     "text": [
      "/var/folders/r3/t2r07q612snc9xmhh7_6wkqm0000gn/T/ipykernel_90937/2561565252.py:7: SettingWithCopyWarning: \n",
      "A value is trying to be set on a copy of a slice from a DataFrame.\n",
      "Try using .loc[row_indexer,col_indexer] = value instead\n",
      "\n",
      "See the caveats in the documentation: https://pandas.pydata.org/pandas-docs/stable/user_guide/indexing.html#returning-a-view-versus-a-copy\n",
      "  df['openai_caption'] = None\n"
     ]
    },
    {
     "name": "stderr",
     "output_type": "stream",
     "text": [
      "0it [00:00, ?it/s]/var/folders/r3/t2r07q612snc9xmhh7_6wkqm0000gn/T/ipykernel_90937/2561565252.py:14: SettingWithCopyWarning: \n",
      "A value is trying to be set on a copy of a slice from a DataFrame.\n",
      "Try using .loc[row_indexer,col_indexer] = value instead\n",
      "\n",
      "See the caveats in the documentation: https://pandas.pydata.org/pandas-docs/stable/user_guide/indexing.html#returning-a-view-versus-a-copy\n",
      "  df.at[index, 'openai_caption_raw'] = caption\n",
      "5it [00:08,  1.63s/it]"
     ]
    },
    {
     "name": "stdout",
     "output_type": "stream",
     "text": [
      "Fatto!\n"
     ]
    },
    {
     "name": "stderr",
     "output_type": "stream",
     "text": [
      "\n"
     ]
    }
   ],
   "source": [
    "_ = apply_openai_caption(df.head(5))"
   ]
  },
  {
   "cell_type": "code",
   "execution_count": null,
   "id": "4f194f2c",
   "metadata": {},
   "outputs": [],
   "source": [
    "import json\n",
    "_ = pd.read_json('../data/image_indexing_modified_openai.json')"
   ]
  },
  {
   "cell_type": "code",
   "execution_count": null,
   "id": "11828ad4",
   "metadata": {},
   "outputs": [],
   "source": []
  }
 ],
 "metadata": {
  "kernelspec": {
   "display_name": "python4HN",
   "language": "python",
   "name": "python3"
  },
  "language_info": {
   "codemirror_mode": {
    "name": "ipython",
    "version": 3
   },
   "file_extension": ".py",
   "mimetype": "text/x-python",
   "name": "python",
   "nbconvert_exporter": "python",
   "pygments_lexer": "ipython3",
   "version": "3.8.18"
  }
 },
 "nbformat": 4,
 "nbformat_minor": 5
}
